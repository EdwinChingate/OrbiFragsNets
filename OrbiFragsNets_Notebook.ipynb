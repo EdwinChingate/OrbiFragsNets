{
 "cells": [
  {
   "cell_type": "code",
   "execution_count": 1,
   "id": "8cd8c23c",
   "metadata": {
    "ExecuteTime": {
     "end_time": "2023-01-27T10:34:03.607156Z",
     "start_time": "2023-01-27T10:34:03.100379Z"
    }
   },
   "outputs": [],
   "source": [
    "import sys\n",
    "import os\n",
    "home=os.getcwd()\n",
    "sys.path.append(home+'/Functions')\n",
    "from OrbiFragsNets import *\n",
    "from ChargeDataSet import *\n",
    "from ShowDF import *\n",
    "import pandas as pd"
   ]
  },
  {
   "cell_type": "markdown",
   "id": "ef580dc4",
   "metadata": {},
   "source": [
    "# Charge your data file"
   ]
  },
  {
   "cell_type": "code",
   "execution_count": 3,
   "id": "501909a0",
   "metadata": {
    "ExecuteTime": {
     "end_time": "2023-01-27T10:34:12.193896Z",
     "start_time": "2023-01-27T10:34:12.191338Z"
    }
   },
   "outputs": [],
   "source": [
    "DataSetName='example.mzML'"
   ]
  },
  {
   "cell_type": "code",
   "execution_count": 4,
   "id": "b962371f",
   "metadata": {
    "ExecuteTime": {
     "end_time": "2023-01-27T10:34:14.293462Z",
     "start_time": "2023-01-27T10:34:13.620123Z"
    }
   },
   "outputs": [],
   "source": [
    "DataSet=ChargeDataSet(DataSetName)"
   ]
  },
  {
   "cell_type": "markdown",
   "id": "f8c2cc01",
   "metadata": {},
   "source": [
    "# Annotation"
   ]
  },
  {
   "cell_type": "code",
   "execution_count": 5,
   "id": "4f155fa4",
   "metadata": {
    "ExecuteTime": {
     "end_time": "2023-01-27T10:34:21.019867Z",
     "start_time": "2023-01-27T10:34:21.017296Z"
    }
   },
   "outputs": [],
   "source": [
    "PrecursorFragmentMass=254.05926372422948"
   ]
  },
  {
   "cell_type": "code",
   "execution_count": 6,
   "id": "8112ca98",
   "metadata": {
    "ExecuteTime": {
     "end_time": "2023-01-27T10:34:33.448055Z",
     "start_time": "2023-01-27T10:34:21.906393Z"
    }
   },
   "outputs": [],
   "source": [
    "Annotation=OrbiFragsNets(PrecursorFragmentMass=PrecursorFragmentMass,DataSet=DataSet)"
   ]
  },
  {
   "cell_type": "code",
   "execution_count": 7,
   "id": "be98c85a",
   "metadata": {
    "ExecuteTime": {
     "end_time": "2023-01-27T10:34:33.468859Z",
     "start_time": "2023-01-27T10:34:33.450125Z"
    }
   },
   "outputs": [
    {
     "data": {
      "text/html": [
       "<table>\n",
       "<thead>\n",
       "<tr><th>           </th><th style=\"text-align: right;\">  K</th><th style=\"text-align: right;\">  Na</th><th style=\"text-align: right;\">  C13</th><th style=\"text-align: right;\">  C</th><th style=\"text-align: right;\">  Cl</th><th style=\"text-align: right;\">  S34</th><th style=\"text-align: right;\">  S</th><th style=\"text-align: right;\">  P</th><th style=\"text-align: right;\">  F</th><th style=\"text-align: right;\">  O</th><th style=\"text-align: right;\">  N</th><th style=\"text-align: right;\">  H</th><th style=\"text-align: right;\">   Error</th><th style=\"text-align: right;\">  PredictedMZ</th><th style=\"text-align: right;\">  MeassuredMZ</th><th style=\"text-align: right;\">  ConfidenceInterval</th><th style=\"text-align: right;\">  RelativeIntensity</th><th style=\"text-align: right;\">       Std</th><th style=\"text-align: right;\">  NumberofDataPoints</th><th>Formula    </th></tr>\n",
       "</thead>\n",
       "<tbody>\n",
       "<tr><td>C6NH6      </td><td style=\"text-align: right;\">  0</td><td style=\"text-align: right;\">   0</td><td style=\"text-align: right;\">    0</td><td style=\"text-align: right;\">  6</td><td style=\"text-align: right;\">   0</td><td style=\"text-align: right;\">    0</td><td style=\"text-align: right;\">  0</td><td style=\"text-align: right;\">  0</td><td style=\"text-align: right;\">  0</td><td style=\"text-align: right;\">  0</td><td style=\"text-align: right;\">  1</td><td style=\"text-align: right;\">  6</td><td style=\"text-align: right;\">0.238635</td><td style=\"text-align: right;\">      92.0495</td><td style=\"text-align: right;\">      92.0495</td><td style=\"text-align: right;\">             22.9798</td><td style=\"text-align: right;\">            6.2166 </td><td style=\"text-align: right;\">0.00170966</td><td style=\"text-align: right;\">                   8</td><td>C6NH6      </td></tr>\n",
       "<tr><td>C6NH7      </td><td style=\"text-align: right;\">  0</td><td style=\"text-align: right;\">   0</td><td style=\"text-align: right;\">    0</td><td style=\"text-align: right;\">  6</td><td style=\"text-align: right;\">   0</td><td style=\"text-align: right;\">    0</td><td style=\"text-align: right;\">  0</td><td style=\"text-align: right;\">  0</td><td style=\"text-align: right;\">  0</td><td style=\"text-align: right;\">  0</td><td style=\"text-align: right;\">  1</td><td style=\"text-align: right;\">  7</td><td style=\"text-align: right;\">0.593889</td><td style=\"text-align: right;\">      93.0573</td><td style=\"text-align: right;\">      93.0572</td><td style=\"text-align: right;\">             23.1768</td><td style=\"text-align: right;\">            4.89395</td><td style=\"text-align: right;\">0.00174319</td><td style=\"text-align: right;\">                   8</td><td>C6NH7      </td></tr>\n",
       "<tr><td>C4ON2H7    </td><td style=\"text-align: right;\">  0</td><td style=\"text-align: right;\">   0</td><td style=\"text-align: right;\">    0</td><td style=\"text-align: right;\">  4</td><td style=\"text-align: right;\">   0</td><td style=\"text-align: right;\">    0</td><td style=\"text-align: right;\">  0</td><td style=\"text-align: right;\">  0</td><td style=\"text-align: right;\">  0</td><td style=\"text-align: right;\">  1</td><td style=\"text-align: right;\">  2</td><td style=\"text-align: right;\">  7</td><td style=\"text-align: right;\">0.940763</td><td style=\"text-align: right;\">      99.0553</td><td style=\"text-align: right;\">      99.0552</td><td style=\"text-align: right;\">             26.0999</td><td style=\"text-align: right;\">            5.41574</td><td style=\"text-align: right;\">0.00184498</td><td style=\"text-align: right;\">                   7</td><td>C4ON2H7    </td></tr>\n",
       "<tr><td>C6ONH6     </td><td style=\"text-align: right;\">  0</td><td style=\"text-align: right;\">   0</td><td style=\"text-align: right;\">    0</td><td style=\"text-align: right;\">  6</td><td style=\"text-align: right;\">   0</td><td style=\"text-align: right;\">    0</td><td style=\"text-align: right;\">  0</td><td style=\"text-align: right;\">  0</td><td style=\"text-align: right;\">  0</td><td style=\"text-align: right;\">  1</td><td style=\"text-align: right;\">  1</td><td style=\"text-align: right;\">  6</td><td style=\"text-align: right;\">1.39289 </td><td style=\"text-align: right;\">     108.044 </td><td style=\"text-align: right;\">     108.044 </td><td style=\"text-align: right;\">             24.8544</td><td style=\"text-align: right;\">            8.97092</td><td style=\"text-align: right;\">0.00217043</td><td style=\"text-align: right;\">                   8</td><td>C6ONH6     </td></tr>\n",
       "<tr><td>C8N3H9     </td><td style=\"text-align: right;\">  0</td><td style=\"text-align: right;\">   0</td><td style=\"text-align: right;\">    0</td><td style=\"text-align: right;\">  8</td><td style=\"text-align: right;\">   0</td><td style=\"text-align: right;\">    0</td><td style=\"text-align: right;\">  0</td><td style=\"text-align: right;\">  0</td><td style=\"text-align: right;\">  0</td><td style=\"text-align: right;\">  0</td><td style=\"text-align: right;\">  3</td><td style=\"text-align: right;\">  9</td><td style=\"text-align: right;\">0.346114</td><td style=\"text-align: right;\">     147.079 </td><td style=\"text-align: right;\">     147.079 </td><td style=\"text-align: right;\">             28.8972</td><td style=\"text-align: right;\">            4.21319</td><td style=\"text-align: right;\">0.00343517</td><td style=\"text-align: right;\">                   8</td><td>C8N3H9     </td></tr>\n",
       "<tr><td>C8N3H10    </td><td style=\"text-align: right;\">  0</td><td style=\"text-align: right;\">   0</td><td style=\"text-align: right;\">    0</td><td style=\"text-align: right;\">  8</td><td style=\"text-align: right;\">   0</td><td style=\"text-align: right;\">    0</td><td style=\"text-align: right;\">  0</td><td style=\"text-align: right;\">  0</td><td style=\"text-align: right;\">  0</td><td style=\"text-align: right;\">  0</td><td style=\"text-align: right;\">  3</td><td style=\"text-align: right;\"> 10</td><td style=\"text-align: right;\">1.20158 </td><td style=\"text-align: right;\">     148.087 </td><td style=\"text-align: right;\">     148.087 </td><td style=\"text-align: right;\">             31.9632</td><td style=\"text-align: right;\">            1.40651</td><td style=\"text-align: right;\">0.00337786</td><td style=\"text-align: right;\">                   7</td><td>C8N3H10    </td></tr>\n",
       "<tr><td>C6SO2NH6   </td><td style=\"text-align: right;\">  0</td><td style=\"text-align: right;\">   0</td><td style=\"text-align: right;\">    0</td><td style=\"text-align: right;\">  6</td><td style=\"text-align: right;\">   0</td><td style=\"text-align: right;\">    0</td><td style=\"text-align: right;\">  1</td><td style=\"text-align: right;\">  0</td><td style=\"text-align: right;\">  0</td><td style=\"text-align: right;\">  2</td><td style=\"text-align: right;\">  1</td><td style=\"text-align: right;\">  6</td><td style=\"text-align: right;\">0.590218</td><td style=\"text-align: right;\">     156.011 </td><td style=\"text-align: right;\">     156.011 </td><td style=\"text-align: right;\">             30.1861</td><td style=\"text-align: right;\">           38.3823 </td><td style=\"text-align: right;\">0.00380631</td><td style=\"text-align: right;\">                   8</td><td>C6SO2NH6   </td></tr>\n",
       "<tr><td>C9O2NH3    </td><td style=\"text-align: right;\">  0</td><td style=\"text-align: right;\">   0</td><td style=\"text-align: right;\">    0</td><td style=\"text-align: right;\">  9</td><td style=\"text-align: right;\">   0</td><td style=\"text-align: right;\">    0</td><td style=\"text-align: right;\">  0</td><td style=\"text-align: right;\">  0</td><td style=\"text-align: right;\">  0</td><td style=\"text-align: right;\">  2</td><td style=\"text-align: right;\">  1</td><td style=\"text-align: right;\">  3</td><td style=\"text-align: right;\">9.48081 </td><td style=\"text-align: right;\">     157.016 </td><td style=\"text-align: right;\">     157.014 </td><td style=\"text-align: right;\">             30.4077</td><td style=\"text-align: right;\">            1.35011</td><td style=\"text-align: right;\">0.0038589 </td><td style=\"text-align: right;\">                   8</td><td>C9O2NH3    </td></tr>\n",
       "<tr><td>C9N3H10    </td><td style=\"text-align: right;\">  0</td><td style=\"text-align: right;\">   0</td><td style=\"text-align: right;\">    0</td><td style=\"text-align: right;\">  9</td><td style=\"text-align: right;\">   0</td><td style=\"text-align: right;\">    0</td><td style=\"text-align: right;\">  0</td><td style=\"text-align: right;\">  0</td><td style=\"text-align: right;\">  0</td><td style=\"text-align: right;\">  0</td><td style=\"text-align: right;\">  3</td><td style=\"text-align: right;\"> 10</td><td style=\"text-align: right;\">0.477854</td><td style=\"text-align: right;\">     160.087 </td><td style=\"text-align: right;\">     160.087 </td><td style=\"text-align: right;\">             30.0052</td><td style=\"text-align: right;\">            2.8373 </td><td style=\"text-align: right;\">0.00388234</td><td style=\"text-align: right;\">                   8</td><td>C9N3H10    </td></tr>\n",
       "<tr><td>C10ON3H10  </td><td style=\"text-align: right;\">  0</td><td style=\"text-align: right;\">   0</td><td style=\"text-align: right;\">    0</td><td style=\"text-align: right;\"> 10</td><td style=\"text-align: right;\">   0</td><td style=\"text-align: right;\">    0</td><td style=\"text-align: right;\">  0</td><td style=\"text-align: right;\">  0</td><td style=\"text-align: right;\">  0</td><td style=\"text-align: right;\">  1</td><td style=\"text-align: right;\">  3</td><td style=\"text-align: right;\"> 10</td><td style=\"text-align: right;\">0.421276</td><td style=\"text-align: right;\">     188.082 </td><td style=\"text-align: right;\">     188.082 </td><td style=\"text-align: right;\">             32.9914</td><td style=\"text-align: right;\">            4.83986</td><td style=\"text-align: right;\">0.00501521</td><td style=\"text-align: right;\">                   8</td><td>C10ON3H10  </td></tr>\n",
       "<tr><td>C10SO3N3H12</td><td style=\"text-align: right;\">  0</td><td style=\"text-align: right;\">   0</td><td style=\"text-align: right;\">    0</td><td style=\"text-align: right;\"> 10</td><td style=\"text-align: right;\">   0</td><td style=\"text-align: right;\">    0</td><td style=\"text-align: right;\">  1</td><td style=\"text-align: right;\">  0</td><td style=\"text-align: right;\">  0</td><td style=\"text-align: right;\">  3</td><td style=\"text-align: right;\">  3</td><td style=\"text-align: right;\"> 12</td><td style=\"text-align: right;\">0.452148</td><td style=\"text-align: right;\">     254.059 </td><td style=\"text-align: right;\">     254.059 </td><td style=\"text-align: right;\">             38.3049</td><td style=\"text-align: right;\">            8.54807</td><td style=\"text-align: right;\">0.00786557</td><td style=\"text-align: right;\">                   8</td><td>C10SO3N3H12</td></tr>\n",
       "</tbody>\n",
       "</table>"
      ],
      "text/plain": [
       "<IPython.core.display.HTML object>"
      ]
     },
     "metadata": {},
     "output_type": "display_data"
    }
   ],
   "source": [
    "ShowDF(Annotation)"
   ]
  },
  {
   "cell_type": "markdown",
   "id": "5efdec72",
   "metadata": {},
   "source": [
    "# Save annotation"
   ]
  },
  {
   "cell_type": "code",
   "execution_count": 8,
   "id": "261b62bf",
   "metadata": {
    "ExecuteTime": {
     "end_time": "2023-01-27T10:51:17.386150Z",
     "start_time": "2023-01-27T10:51:17.383249Z"
    }
   },
   "outputs": [],
   "source": [
    "filename='AnnotationSulfamethoxazoleSpectrum.xlsx'"
   ]
  },
  {
   "cell_type": "code",
   "execution_count": 10,
   "id": "f72a9e08",
   "metadata": {
    "ExecuteTime": {
     "end_time": "2023-01-27T10:51:53.811770Z",
     "start_time": "2023-01-27T10:51:53.755026Z"
    }
   },
   "outputs": [],
   "source": [
    "Annotation.to_excel(filename)"
   ]
  }
 ],
 "metadata": {
  "kernelspec": {
   "display_name": "Python 3 (ipykernel)",
   "language": "python",
   "name": "python3"
  },
  "language_info": {
   "codemirror_mode": {
    "name": "ipython",
    "version": 3
   },
   "file_extension": ".py",
   "mimetype": "text/x-python",
   "name": "python",
   "nbconvert_exporter": "python",
   "pygments_lexer": "ipython3",
   "version": "3.7.13"
  }
 },
 "nbformat": 4,
 "nbformat_minor": 5
}
